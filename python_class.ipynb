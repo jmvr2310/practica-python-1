{
 "cells": [
  {
   "cell_type": "code",
   "execution_count": 1,
   "metadata": {},
   "outputs": [
    {
     "name": "stdout",
     "output_type": "stream",
     "text": [
      "hallo :D\n"
     ]
    }
   ],
   "source": [
    "print(\"hallo :D\")"
   ]
  },
  {
   "cell_type": "markdown",
   "metadata": {},
   "source": [
    "##### Can't you see I'm blazing\n",
    "* still my heart is blazing\n",
    "* if the words kill me,\n",
    "* I don't need a new world order.\n",
    "    - You,\n",
    "    - my tribe is my world,\n",
    "    - your words will never make me dissapear"
   ]
  },
  {
   "cell_type": "markdown",
   "metadata": {},
   "source": [
    "### Clase\n",
    "\n",
    "* variables\n",
    "* operadores matematicos basicos\n",
    "* operadores de comparacion\n",
    "* condicionales\n",
    "    - simples\n",
    "    - anidados\n",
    "    - encadenados\n",
    "* estructura de datos\n",
    "    - listas\n",
    "    - cadenas de caracteres\n",
    "    - diccionarios\n",
    "    - tuplas\n",
    "* estructuras de control\n",
    "    - funciones\n",
    "    - ciclos finitos\n",
    "    - ciclos infinitos"
   ]
  },
  {
   "cell_type": "code",
   "execution_count": 3,
   "metadata": {},
   "outputs": [],
   "source": [
    "#   variables en python\n",
    "name = \"hallo\""
   ]
  },
  {
   "cell_type": "code",
   "execution_count": 6,
   "metadata": {},
   "outputs": [
    {
     "data": {
      "text/plain": [
       "'hallo :D!'"
      ]
     },
     "execution_count": 6,
     "metadata": {},
     "output_type": "execute_result"
    }
   ],
   "source": [
    "name"
   ]
  },
  {
   "cell_type": "code",
   "execution_count": 7,
   "metadata": {},
   "outputs": [],
   "source": [
    "# cuando la variable tiene varias palabras en el nombre, se usa _\n",
    "last_name = \":D!\""
   ]
  },
  {
   "cell_type": "code",
   "execution_count": 8,
   "metadata": {},
   "outputs": [],
   "source": [
    "# mala practica a pesar de que python lo acepta, poner espacios es lo idoneo\n",
    " = \"wah\"Lastname=\"wuewuewuewuewuewue\""
   ]
  },
  {
   "cell_type": "code",
   "execution_count": 9,
   "metadata": {},
   "outputs": [],
   "source": [
    "# todos estos son errores de sintaxis, no son reconocidos por python\n",
    "# last.name = \"wah\"\n",
    "# last*name = \"wah\"\n",
    "# last-name = \"wah\""
   ]
  },
  {
   "cell_type": "code",
   "execution_count": 10,
   "metadata": {},
   "outputs": [
    {
     "data": {
      "text/plain": [
       "22"
      ]
     },
     "execution_count": 10,
     "metadata": {},
     "output_type": "execute_result"
    }
   ],
   "source": [
    "# operadores matematicos simples\n",
    "num_1 = 12\n",
    "num_2 = 10\n",
    "\n",
    "# sumas\n",
    "result = num_1 + num_2\n",
    "\n",
    "result"
   ]
  },
  {
   "cell_type": "code",
   "execution_count": 11,
   "metadata": {},
   "outputs": [
    {
     "data": {
      "text/plain": [
       "2"
      ]
     },
     "execution_count": 11,
     "metadata": {},
     "output_type": "execute_result"
    }
   ],
   "source": [
    "# resta\n",
    "result_2 = num_1 - num_2\n",
    "\n",
    "result_2"
   ]
  },
  {
   "cell_type": "code",
   "execution_count": 12,
   "metadata": {},
   "outputs": [
    {
     "name": "stdout",
     "output_type": "stream",
     "text": [
      "2\n"
     ]
    }
   ],
   "source": [
    "# print solicita explicitamente que se muestre algo en pantalla\n",
    "print(result_2)"
   ]
  },
  {
   "cell_type": "code",
   "execution_count": 15,
   "metadata": {},
   "outputs": [
    {
     "name": "stdout",
     "output_type": "stream",
     "text": [
      "el resultados de la suma es: 22\n",
      "el de la resta es: 2\n",
      "22\n"
     ]
    }
   ],
   "source": [
    "print(f\"el resultados de la suma es: {result}\")\n",
    "print(f\"el de la resta es: {result_2}\")\n",
    "print(result)"
   ]
  },
  {
   "cell_type": "code",
   "execution_count": 17,
   "metadata": {},
   "outputs": [
    {
     "name": "stdout",
     "output_type": "stream",
     "text": [
      "el resultados de la mutliplicacion es: 120\n",
      "el de la division es: 1.2\n"
     ]
    }
   ],
   "source": [
    "# multiplicacion\n",
    "result_3 = num_1 * num_2\n",
    "\n",
    "# division\n",
    "result_4 = num_1 / num_2\n",
    "\n",
    "print(f\"el resultados de la mutliplicacion es: {result_3}\")\n",
    "print(f\"el de la division es: {result_4}\")"
   ]
  },
  {
   "cell_type": "code",
   "execution_count": 18,
   "metadata": {},
   "outputs": [
    {
     "name": "stdout",
     "output_type": "stream",
     "text": [
      "Hello, ello!\n"
     ]
    }
   ],
   "source": [
    "name = input(\"What is your name? \")\n",
    "print(\"Hello, \" + name + \"!\")"
   ]
  },
  {
   "cell_type": "code",
   "execution_count": 19,
   "metadata": {},
   "outputs": [
    {
     "name": "stdout",
     "output_type": "stream",
     "text": [
      "Que tal estas, p*to?\n"
     ]
    }
   ],
   "source": [
    "name = input(\"What is your name? \")\n",
    "print(\"Que tal estas, \" + name + \"?\")"
   ]
  },
  {
   "cell_type": "code",
   "execution_count": 30,
   "metadata": {},
   "outputs": [
    {
     "name": "stdout",
     "output_type": "stream",
     "text": [
      "The sum of 86.0 and -13.0 is 73.0\n"
     ]
    }
   ],
   "source": [
    "# Get the first number from the user\n",
    "first_number = float(input(\"Enter the first number: \"))\n",
    "\n",
    "# Get the second number from the user\n",
    "second_number = float(input(\"Enter the second number: \"))\n",
    "\n",
    "# Add the two numbers\n",
    "sum = first_number + second_number\n",
    "\n",
    "# Print the result\n",
    "print(\"The sum of\", first_number, \"and\", second_number, \"is\", sum)"
   ]
  },
  {
   "cell_type": "code",
   "execution_count": 21,
   "metadata": {},
   "outputs": [
    {
     "name": "stdout",
     "output_type": "stream",
     "text": [
      "The remainder of 25.0 and 3.0 is 22.0\n"
     ]
    }
   ],
   "source": [
    "# Get the first number from the user\n",
    "first_number = float(input(\"Enter the first number: \"))\n",
    "\n",
    "# Get the second number from the user\n",
    "second_number = float(input(\"Enter the second number: \"))\n",
    "\n",
    "# Add the two numbers\n",
    "rem = first_number - second_number\n",
    "\n",
    "# Print the result\n",
    "print(\"The remainder of\", first_number, \"and\", second_number, \"is\", rem)"
   ]
  },
  {
   "cell_type": "code",
   "execution_count": 22,
   "metadata": {},
   "outputs": [
    {
     "name": "stdout",
     "output_type": "stream",
     "text": [
      "The multiplication of 4.0 times 3.0 is 12.0\n"
     ]
    }
   ],
   "source": [
    "# Get the first number from the user\n",
    "first_number = float(input(\"Enter the first number: \"))\n",
    "\n",
    "# Get the second number from the user\n",
    "second_number = float(input(\"Enter the second number: \"))\n",
    "\n",
    "# Add the two numbers\n",
    "mult = first_number * second_number\n",
    "# Print the result\n",
    "print(\"The multiplication of\", first_number, \"times\", second_number, \"is\", mult)"
   ]
  },
  {
   "cell_type": "code",
   "execution_count": 39,
   "metadata": {},
   "outputs": [
    {
     "name": "stdout",
     "output_type": "stream",
     "text": [
      "Error: Cannot divide by zero.\n",
      "47.0 divided by 9.0 is 5.222222222222222\n"
     ]
    }
   ],
   "source": [
    "while True:\n",
    "  # Get the first number from the user\n",
    "  first_number = float(input(\"Enter the first number: \"))\n",
    "\n",
    "  # Get the second number from the user\n",
    "  second_number = float(input(\"Enter the second number: \"))\n",
    "\n",
    "  # Check for division by zero\n",
    "  if second_number == 0:\n",
    "    print(\"Error: Cannot divide by zero.\")\n",
    "  else:\n",
    "    # Perform the division\n",
    "    # Add the two numbers\n",
    "    div = first_number / second_number\n",
    "    print(f\"{first_number} divided by {second_number} is {div}\")\n",
    "    break  # Exit the loop if successful"
   ]
  },
  {
   "cell_type": "code",
   "execution_count": 29,
   "metadata": {},
   "outputs": [
    {
     "name": "stdout",
     "output_type": "stream",
     "text": [
      "<class 'int'>\n",
      "3\n"
     ]
    }
   ],
   "source": [
    "# int se refiere a numeros enteros, float se refiere a numeros decimales\n",
    "# cuando se pone \n",
    "num_3 = input( \"num_3\" )\n",
    "num_3 = int( num_3)\n",
    "print( type( num_3 ) )\n",
    "print( num_3)"
   ]
  },
  {
   "cell_type": "code",
   "execution_count": 42,
   "metadata": {},
   "outputs": [],
   "source": [
    "# operadores de comparacion\n",
    "\n",
    "# mayor que >\n",
    "# menor que <\n",
    "# mayor o igual >=\n",
    "# menor o igual <=\n",
    "# igual que ==\n",
    "# diferente de !="
   ]
  },
  {
   "cell_type": "code",
   "execution_count": 48,
   "metadata": {},
   "outputs": [
    {
     "name": "stdout",
     "output_type": "stream",
     "text": [
      "Hola, Rick, creo que esto te va a gustar: https://www.youtube.com/watch?v=dQw4w9WgXcQ\n"
     ]
    }
   ],
   "source": [
    "name = input(\"ingrese su nombre\")\n",
    "\n",
    "# if esto:\n",
    "    # pasa esto\n",
    "\n",
    "if name == \"Rick\":\n",
    "    print(f\"Hola, {name}, creo que esto te va a gustar: https://www.youtube.com/watch?v=dQw4w9WgXcQ\")"
   ]
  },
  {
   "cell_type": "code",
   "execution_count": 52,
   "metadata": {},
   "outputs": [
    {
     "name": "stdout",
     "output_type": "stream",
     "text": [
      "The sum of 298.0 and 23.0 is 321.0\n"
     ]
    }
   ],
   "source": [
    "# Get the first number from the user\n",
    "first_number = float(input(\"Enter the first number: \"))\n",
    "\n",
    "# Get the second number from the user\n",
    "second_number = float(input(\"Enter the second number: \"))\n",
    "\n",
    "# Add the two numbers\n",
    "sum = first_number + second_number\n",
    "\n",
    "# Print the result\n",
    "\n",
    "if sum > 9000:\n",
    "    print(\"IT'S OVER 9000!\")\n",
    "    print(\"WHAT?! 9000?!\")\n",
    "else:\n",
    "    print(\"The sum of\", first_number, \"and\", second_number, \"is\", sum)\n"
   ]
  },
  {
   "cell_type": "code",
   "execution_count": 55,
   "metadata": {},
   "outputs": [
    {
     "name": "stdout",
     "output_type": "stream",
     "text": [
      "The number is higher or equal to 20.\n"
     ]
    }
   ],
   "source": [
    "# operadores logicos\n",
    "# and\n",
    "# or\n",
    "# not\n",
    "\n",
    "num = float(input(\"pon un numero\"))\n",
    "\n",
    "if num < 10:\n",
    "  print(\"The number is less than 10.\")\n",
    "if num == 10:\n",
    "  print(\"The number is equal to 10.\")\n",
    "if num < 20 and num > 10:\n",
    "    print(\"The number is between 10 and 20.\")\n",
    "else:\n",
    "    print(\"The number is higher or equal to 20.\")"
   ]
  },
  {
   "cell_type": "code",
   "execution_count": 54,
   "metadata": {},
   "outputs": [
    {
     "name": "stdout",
     "output_type": "stream",
     "text": [
      "The number is higher than 10 but less than or equal to 20.\n"
     ]
    }
   ],
   "source": [
    "num = float(input(\"pon un numero\"))\n",
    "\n",
    "if num < 10:\n",
    "  print(\"The number is less than 10.\")\n",
    "elif num == 10:\n",
    "  print(\"The number is equal to 10.\")\n",
    "else:\n",
    "  if num > 20:\n",
    "    print(\"The number is higher than 20.\")\n",
    "  else:\n",
    "    print(\"The number is higher than 10 but less than or equal to 20.\")"
   ]
  },
  {
   "cell_type": "code",
   "execution_count": 60,
   "metadata": {},
   "outputs": [
    {
     "name": "stdout",
     "output_type": "stream",
     "text": [
      "La operacion no es valida, escriba todo en minusculas y sin acentuacion\n"
     ]
    }
   ],
   "source": [
    "# Get the first number from the user\n",
    "first_number = float(input(\"Ingresa el primer numero\"))\n",
    "\n",
    "# Get the second number from the user\n",
    "second_number = float(input(\"Ingresa el segundo numero\"))\n",
    "\n",
    "op = input(\"Que operacion quisieras realizar?\")\n",
    "\n",
    "if op == \"suma\" or op == \"adicion\":\n",
    "  # Add the two numbers\n",
    "  sum = first_number + second_number\n",
    "  # Print the result\n",
    "  print(\"The sum of\", first_number, \"and\", second_number, \"is\", sum)\n",
    "\n",
    "if op == \"resta\" or op == \"sustraccion\":\n",
    "  # Add the two numbers\n",
    "  rem = first_number - second_number\n",
    "  # Print the result\n",
    "  print(\"The remainder of\", first_number, \"and\", second_number, \"is\", rem)\n",
    "\n",
    "if op == \"multiplicacion\" or op == \"producto\":\n",
    "  # Add the two numbers\n",
    "  mult = first_number * second_number\n",
    "  # Print the result\n",
    "  print(\"The multiplication of\", first_number, \"times\", second_number, \"is\", mult)\n",
    "\n",
    "if op == \"division\" or op == \"cociente\":\n",
    "  # Check for division by zero\n",
    "    if second_number == 0:\n",
    "      print(\"Error: Cannot divide by zero.\")\n",
    "    else:\n",
    "      # Perform the division\n",
    "      # Add the two numbers\n",
    "      div = first_number / second_number\n",
    "      print(f\"{first_number} divided by {second_number} is {div}\")\n",
    "\n",
    "else: \n",
    "  print(\"La operacion no es valida, escriba todo en minusculas, sin acentuacion, e intente de nuevo\")"
   ]
  },
  {
   "cell_type": "code",
   "execution_count": null,
   "metadata": {},
   "outputs": [],
   "source": []
  }
 ],
 "metadata": {
  "kernelspec": {
   "display_name": "Python 3",
   "language": "python",
   "name": "python3"
  },
  "language_info": {
   "codemirror_mode": {
    "name": "ipython",
    "version": 3
   },
   "file_extension": ".py",
   "mimetype": "text/x-python",
   "name": "python",
   "nbconvert_exporter": "python",
   "pygments_lexer": "ipython3",
   "version": "3.12.2"
  }
 },
 "nbformat": 4,
 "nbformat_minor": 2
}
